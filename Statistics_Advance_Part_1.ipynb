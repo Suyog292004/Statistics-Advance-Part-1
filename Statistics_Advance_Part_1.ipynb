{
  "nbformat": 4,
  "nbformat_minor": 0,
  "metadata": {
    "colab": {
      "provenance": []
    },
    "kernelspec": {
      "name": "python3",
      "display_name": "Python 3"
    },
    "language_info": {
      "name": "python"
    }
  },
  "cells": [
    {
      "cell_type": "markdown",
      "source": [
        "1.What is a random variable in probability theory\n",
        "- In probability theory, a random variable is a variable that represents the outcome of a random experiment. Instead of having a single fixed value, it takes on different possible values, each with an associated probability"
      ],
      "metadata": {
        "id": "iJr6dqErIRdd"
      }
    },
    {
      "cell_type": "markdown",
      "source": [
        "2.What are the types of random variables\n",
        "- Discrete random variable is takes on a finite or countably infinite number of possible values\n",
        "- Continuous random variable takes on an infinite number of possible values within a given interval\n",
        "\n"
      ],
      "metadata": {
        "id": "vusDeWvxIbX8"
      }
    },
    {
      "cell_type": "markdown",
      "source": [
        "3.What is the difference between discrete and continuous distributions\n",
        "- In a discrete distribution, you can list the outcomes\n",
        "- In a continuous distribution, you measure outcomes"
      ],
      "metadata": {
        "id": "QexTvIhwJEF0"
      }
    },
    {
      "cell_type": "markdown",
      "source": [
        " 4.What are probability distribution functions (PDF)\n",
        " - A Probability Distribution Function is a mathematical function that describes how the values of a random variable are distributed in other words, it tells us how likely it is for the variable to take on certain values."
      ],
      "metadata": {
        "id": "4xNDrTaGJbHb"
      }
    },
    {
      "cell_type": "markdown",
      "source": [
        "5.How do cumulative distribution functions (CDF) differ from probability distribution functions (PDF)\n",
        "- The Cumulative Distribution Function (CDF) and the Probability Distribution Function (PDF) are both fundamental concepts in probability and statistics, but they serve different purposes and apply to different types of data\n"
      ],
      "metadata": {
        "id": "PoiYuIACJ8hu"
      }
    },
    {
      "cell_type": "markdown",
      "source": [
        "6.What is a discrete uniform distribution\n",
        "- A Discrete Uniform Distribution is a type of probability distribution in which all outcomes are equally likely and the variable can only take on a finite number of distinct values"
      ],
      "metadata": {
        "id": "uEPGTLeRN0pn"
      }
    },
    {
      "cell_type": "markdown",
      "source": [
        "7.What are the key properties of a Bernoulli distribution\n",
        "- The Bernoulli distribution is one of the simplest and most fundamental probability distributions in statistics. It models a random experiment with only two possible outcomes"
      ],
      "metadata": {
        "id": "P_rh66HrN-gk"
      }
    },
    {
      "cell_type": "markdown",
      "source": [
        "8.What is the binomial distribution, and how is it used in probability\n",
        "- The Binomial Distribution is a discrete probability distribution that models the number of successes in a fixed number of independent Bernoulli trials where each trial has the same probability of success"
      ],
      "metadata": {
        "id": "uK-iOB0eOIKC"
      }
    },
    {
      "cell_type": "markdown",
      "source": [
        "9.What is the Poisson distribution and where is it applied\n",
        "- The Poisson Distribution is a discrete probability distribution that models the number of times an event occurs in a fixed interval of time or space"
      ],
      "metadata": {
        "id": "jD5WALXaOXv2"
      }
    },
    {
      "cell_type": "markdown",
      "source": [
        "10.What is a continuous uniform distribution\n",
        "- A Continuous Uniform Distribution is a probability distribution where every value in a continuous interval is equally likely to occur"
      ],
      "metadata": {
        "id": "NcECd5aiOmy_"
      }
    },
    {
      "cell_type": "markdown",
      "source": [
        "11.What are the characteristics of a normal distribution\n",
        "- The Normal Distribution, also known as the Gaussian distribution, is one of the most important and widely used probability distributions in statistics. It describes how values of a continuous random variable are distributed and is known for its distinctive bell-shaped curve"
      ],
      "metadata": {
        "id": "vjvw-fiEO5gV"
      }
    },
    {
      "cell_type": "markdown",
      "source": [
        "12.What is the standard normal distribution, and why is it important\n",
        "- The Standard Normal Distribution is a special case of the normal distribution\n",
        "- Z-tables (or standard normal tables) allow quick lookup of probabilities without needing to calculate integrals of the normal distribution function\n",
        "- Many statistical tests (like z-tests) use the standard normal distribution as the reference for computing p-values and critical values"
      ],
      "metadata": {
        "id": "WqllUEnJPBc4"
      }
    },
    {
      "cell_type": "markdown",
      "source": [
        "13.What is the Central Limit Theorem (CLT), and why is it critical in statistics\n",
        "- When you take sufficiently large random samples from any population,the sampling distribution of the sample mean will be approximately normal,provided the sample size is large enough"
      ],
      "metadata": {
        "id": "r6BatQNsP7k3"
      }
    },
    {
      "cell_type": "markdown",
      "source": [
        "14.How does the Central Limit Theorem relate to the normal distribution\n",
        "- No matter what the original distribution of a population looks like, the distribution of the sample mean will approach a normal distribution as the sample size increases\n",
        "- This happens because the CLT ensures that for large enough sample sizes is a common rule of thumb, the sample mean tends to follow a normal distribution, even if the underlying population distribution is not norma"
      ],
      "metadata": {
        "id": "vE_dkmLzQR0H"
      }
    },
    {
      "cell_type": "markdown",
      "source": [
        "15.What is the application of Z statistics in hypothesis testing\n",
        "- Z-statistics play a crucial role in hypothesis testing, particularly when dealing with large sample sizes or when the population variance is known. They are used to test hypotheses about the mean of a population, and the results are based on the standard normal distribution"
      ],
      "metadata": {
        "id": "XcTmDp3YRFgd"
      }
    },
    {
      "cell_type": "markdown",
      "source": [
        "16.How do you calculate a Z-score, and what does it represent\n",
        "- A Z-score measures how many standard deviations a data point is from the mean of a distribution. It is a way to standardize scores on different scales or from different distributions, making them comparable"
      ],
      "metadata": {
        "id": "YviqVYnzRWah"
      }
    },
    {
      "cell_type": "markdown",
      "source": [
        "17.What are point estimates and interval estimates in statistics\n",
        "- In statistics, estimation refers to the process of inferring the value of a population parameter based on sample data and Both are used to make inferences about the population from sample data, but they differ in the level of precision and information they provide\n",
        "- Point estimate and Interval estimate"
      ],
      "metadata": {
        "id": "5NIFWWbrR6fu"
      }
    },
    {
      "cell_type": "markdown",
      "source": [
        "18.What is the significance of confidence intervals in statistical analysis\n",
        "- A confidence interval is a range of values that is used to estimate an unknown population parameter, such as the population mean or proportion, based on sample data. It provides a range of values within which we expect the true population parameter to lie, with a certain degree of confidence\n"
      ],
      "metadata": {
        "id": "Z_jWmXvaS9_Y"
      }
    },
    {
      "cell_type": "markdown",
      "source": [
        "19.What is the relationship between a Z-score and a confidence interval\n",
        "- A Z-score is used to measure how many standard deviations a data point is from the mean of a distribution. It helps to standardize and compare scores across different datasets\n",
        "- A confidence interval is a range of values used to estimate a population parameter, such as a mean or proportion, based on sample data. It provides an interval within which the true population parameter is likely to lie, with a certain level of confidence"
      ],
      "metadata": {
        "id": "g7MOaBOCTK8q"
      }
    },
    {
      "cell_type": "markdown",
      "source": [
        "20.How are Z-scores used to compare different distributions\n",
        "- A Z-score is a statistical measure that describes how far a data point is from the mean of a distribution, in terms of standard deviations. Z-scores are widely used to standardize data, allowing for the comparison of different distributions even if they have different units, means, or standard deviations"
      ],
      "metadata": {
        "id": "hyFOFez2TnQP"
      }
    },
    {
      "cell_type": "markdown",
      "source": [
        "21.What are the assumptions for applying the Central Limit Theorem\n",
        "- The Central Limit Theorem CLT is a fundamental concept in statistics that explains how the distribution of the sample mean approaches a normal distribution, regardless of the shape of the population distribution, as the sample size increases. However, there are certain assumptions that must be met for the CLT to apply effectively"
      ],
      "metadata": {
        "id": "cm6DPX0qT5OU"
      }
    },
    {
      "cell_type": "markdown",
      "source": [
        "22.What is the concept of expected value in a probability distribution\n",
        "- The expected value is a fundamental concept in probability and statistics. It represents the long-run average or mean value of a random variable over many trials or observations. In simple terms, the expected value gives us an idea of what we can expect as the average outcome of a random experiment or process"
      ],
      "metadata": {
        "id": "rXZtzwr1UETq"
      }
    },
    {
      "cell_type": "markdown",
      "source": [
        "23.How does a probability distribution relate to the expected outcome of a random variable\n",
        "- A probability distribution describes the probabilities of different outcomes for a random variable. It provides a complete description of the random variable’s behavior, showing how likely each possible outcome is. The expected outcome, or expected value, is a key feature derived from this distribution It represents the long-run average or central tendency of the random variable based on its probability distribution"
      ],
      "metadata": {
        "id": "Y4fztlrbP2ox"
      }
    }
  ]
}